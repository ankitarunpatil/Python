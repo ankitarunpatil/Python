{
 "cells": [
  {
   "cell_type": "code",
   "execution_count": 36,
   "metadata": {},
   "outputs": [],
   "source": [
    "# 1. Function to select only rows where grades are greater than 90 and color is red or green\n",
    "\n",
    "def grades_colors(students_df):\n",
    "    return students_df[(students_df.grade > 90) & (students_df.favorite_color.isin([\"green\",\"red\"]))]"
   ]
  },
  {
   "cell_type": "code",
   "execution_count": 37,
   "metadata": {},
   "outputs": [
    {
     "data": {
      "text/html": [
       "<div>\n",
       "<style scoped>\n",
       "    .dataframe tbody tr th:only-of-type {\n",
       "        vertical-align: middle;\n",
       "    }\n",
       "\n",
       "    .dataframe tbody tr th {\n",
       "        vertical-align: top;\n",
       "    }\n",
       "\n",
       "    .dataframe thead th {\n",
       "        text-align: right;\n",
       "    }\n",
       "</style>\n",
       "<table border=\"1\" class=\"dataframe\">\n",
       "  <thead>\n",
       "    <tr style=\"text-align: right;\">\n",
       "      <th></th>\n",
       "      <th>name</th>\n",
       "      <th>age</th>\n",
       "      <th>favorite_color</th>\n",
       "      <th>grade</th>\n",
       "    </tr>\n",
       "  </thead>\n",
       "  <tbody>\n",
       "    <tr>\n",
       "      <th>0</th>\n",
       "      <td>Tim Voss</td>\n",
       "      <td>19</td>\n",
       "      <td>red</td>\n",
       "      <td>91</td>\n",
       "    </tr>\n",
       "    <tr>\n",
       "      <th>4</th>\n",
       "      <td>Catherine Jones</td>\n",
       "      <td>23</td>\n",
       "      <td>green</td>\n",
       "      <td>93</td>\n",
       "    </tr>\n",
       "  </tbody>\n",
       "</table>\n",
       "</div>"
      ],
      "text/plain": [
       "              name  age favorite_color  grade\n",
       "0         Tim Voss   19            red     91\n",
       "4  Catherine Jones   23          green     93"
      ]
     },
     "execution_count": 37,
     "metadata": {},
     "output_type": "execute_result"
    }
   ],
   "source": [
    "# Test Case\n",
    "\n",
    "import pandas as pd\n",
    "students = {\"name\" : [\"Tim Voss\", \"Nicole Johnson\", \"Elsa Williams\", \"John James\", \"Catherine Jones\"], \"age\" : [19, 20, 21, 20, 23], \"favorite_color\" : [\"red\", \"yellow\", \"green\", \"blue\", \"green\"], \"grade\" : [91, 95, 82, 75, 93]}\n",
    "students_df = pd.DataFrame(students)\n",
    "\n",
    "grades_colors(students_df)"
   ]
  },
  {
   "cell_type": "code",
   "execution_count": 38,
   "metadata": {},
   "outputs": [],
   "source": [
    "# 2. Function to return a dataframe containing every transaction with a value of over 100 dollars\n",
    "\n",
    "def over_one_hundred_dollars(df_transactions, df_products):\n",
    "    \n",
    "    combined_data = df_transactions.merge(df_products, on = \"product_id\")\n",
    "    combined_data[\"total_value\"] = combined_data[\"price\"] * combined_data[\"amount\"]\n",
    "    del combined_data[\"price\"]\n",
    "    \n",
    "    return combined_data[(combined_data[\"total_value\"])>100]"
   ]
  },
  {
   "cell_type": "code",
   "execution_count": 39,
   "metadata": {},
   "outputs": [
    {
     "data": {
      "text/html": [
       "<div>\n",
       "<style scoped>\n",
       "    .dataframe tbody tr th:only-of-type {\n",
       "        vertical-align: middle;\n",
       "    }\n",
       "\n",
       "    .dataframe tbody tr th {\n",
       "        vertical-align: top;\n",
       "    }\n",
       "\n",
       "    .dataframe thead th {\n",
       "        text-align: right;\n",
       "    }\n",
       "</style>\n",
       "<table border=\"1\" class=\"dataframe\">\n",
       "  <thead>\n",
       "    <tr style=\"text-align: right;\">\n",
       "      <th></th>\n",
       "      <th>transaction_id</th>\n",
       "      <th>product_id</th>\n",
       "      <th>amount</th>\n",
       "      <th>total_value</th>\n",
       "    </tr>\n",
       "  </thead>\n",
       "  <tbody>\n",
       "    <tr>\n",
       "      <th>1</th>\n",
       "      <td>2</td>\n",
       "      <td>102</td>\n",
       "      <td>5</td>\n",
       "      <td>105.0</td>\n",
       "    </tr>\n",
       "    <tr>\n",
       "      <th>2</th>\n",
       "      <td>3</td>\n",
       "      <td>103</td>\n",
       "      <td>8</td>\n",
       "      <td>120.0</td>\n",
       "    </tr>\n",
       "    <tr>\n",
       "      <th>4</th>\n",
       "      <td>5</td>\n",
       "      <td>105</td>\n",
       "      <td>2</td>\n",
       "      <td>104.0</td>\n",
       "    </tr>\n",
       "  </tbody>\n",
       "</table>\n",
       "</div>"
      ],
      "text/plain": [
       "   transaction_id  product_id  amount  total_value\n",
       "1               2         102       5        105.0\n",
       "2               3         103       8        120.0\n",
       "4               5         105       2        104.0"
      ]
     },
     "execution_count": 39,
     "metadata": {},
     "output_type": "execute_result"
    }
   ],
   "source": [
    "# Test case \n",
    "\n",
    "import pandas as pd\n",
    "transactions = {\"transaction_id\" : [1, 2, 3, 4, 5], \"product_id\" : [101, 102, 103, 104, 105], \"amount\" : [3, 5, 8, 3, 2]}\n",
    "products = {\"product_id\" : [101, 102, 103, 104, 105], \"price\" : [20.00, 21.00, 15.00, 16.00, 52.00]}\n",
    "df_transactions = pd.DataFrame(transactions)\n",
    "df_products = pd.DataFrame(products)\n",
    "\n",
    "over_one_hundred_dollars(df_transactions, df_products)"
   ]
  },
  {
   "cell_type": "code",
   "execution_count": 51,
   "metadata": {},
   "outputs": [],
   "source": [
    "# 3. Fill the NaN columns with median values\n",
    "import pandas as pd\n",
    "def cheese_median(df_cheeses):\n",
    "    df_cheeses[\"median\"] = df_cheeses[\"Price\"].median()\n",
    "    df_cheeses[\"Price\"] = df_cheeses[\"Price\"].fillna(df_cheeses[\"median\"])\n",
    "    \n",
    "    del df_cheeses[\"median\"]\n",
    "    \n",
    "    return df_cheeses"
   ]
  },
  {
   "cell_type": "code",
   "execution_count": 53,
   "metadata": {},
   "outputs": [
    {
     "data": {
      "text/html": [
       "<div>\n",
       "<style scoped>\n",
       "    .dataframe tbody tr th:only-of-type {\n",
       "        vertical-align: middle;\n",
       "    }\n",
       "\n",
       "    .dataframe tbody tr th {\n",
       "        vertical-align: top;\n",
       "    }\n",
       "\n",
       "    .dataframe thead th {\n",
       "        text-align: right;\n",
       "    }\n",
       "</style>\n",
       "<table border=\"1\" class=\"dataframe\">\n",
       "  <thead>\n",
       "    <tr style=\"text-align: right;\">\n",
       "      <th></th>\n",
       "      <th>Name</th>\n",
       "      <th>Price</th>\n",
       "    </tr>\n",
       "  </thead>\n",
       "  <tbody>\n",
       "    <tr>\n",
       "      <th>0</th>\n",
       "      <td>Bohemian Goat</td>\n",
       "      <td>15.0</td>\n",
       "    </tr>\n",
       "    <tr>\n",
       "      <th>1</th>\n",
       "      <td>Central Coast Bleu</td>\n",
       "      <td>30.0</td>\n",
       "    </tr>\n",
       "    <tr>\n",
       "      <th>2</th>\n",
       "      <td>Cowgirl Mozzarella</td>\n",
       "      <td>30.0</td>\n",
       "    </tr>\n",
       "    <tr>\n",
       "      <th>3</th>\n",
       "      <td>Cypress Grove Cheddar</td>\n",
       "      <td>30.0</td>\n",
       "    </tr>\n",
       "    <tr>\n",
       "      <th>4</th>\n",
       "      <td>Oakdale Colby</td>\n",
       "      <td>45.0</td>\n",
       "    </tr>\n",
       "  </tbody>\n",
       "</table>\n",
       "</div>"
      ],
      "text/plain": [
       "                    Name  Price\n",
       "0          Bohemian Goat   15.0\n",
       "1     Central Coast Bleu   30.0\n",
       "2     Cowgirl Mozzarella   30.0\n",
       "3  Cypress Grove Cheddar   30.0\n",
       "4          Oakdale Colby   45.0"
      ]
     },
     "execution_count": 53,
     "metadata": {},
     "output_type": "execute_result"
    }
   ],
   "source": [
    "# Test case \n",
    "\n",
    "import pandas as pd\n",
    "cheeses = {\"Name\": [\"Bohemian Goat\", \"Central Coast Bleu\", \"Cowgirl Mozzarella\", \"Cypress Grove Cheddar\", \"Oakdale Colby\"], \"Price\" : [15.00, None, 30.00, None, 45.00]}\n",
    "df_cheeses = pd.DataFrame(cheeses)\n",
    "\n",
    "cheese_median(df_cheeses)"
   ]
  },
  {
   "cell_type": "code",
   "execution_count": 59,
   "metadata": {},
   "outputs": [],
   "source": [
    "# 4. Find the median inches of rainfall\n",
    "def median_rainfall(df_rain):\n",
    "    \n",
    "    return df_rain[df_rain[\"Inches\"]> 0][\"Inches\"].median()"
   ]
  },
  {
   "cell_type": "code",
   "execution_count": 62,
   "metadata": {},
   "outputs": [
    {
     "data": {
      "text/plain": [
       "1.0"
      ]
     },
     "execution_count": 62,
     "metadata": {},
     "output_type": "execute_result"
    }
   ],
   "source": [
    "# Test case \n",
    "import pandas as pd\n",
    "rainfall = {\"Day\" : [\"Monday\", \"Tuesday\", \"Wednesday\", \"Thursday\", \"Friday\"], \"Inches\" : [0, 1.2, 0, 0.8, 1]}\n",
    "df_rain = pd.DataFrame(rainfall)\n",
    "\n",
    "median_rainfall(df_rain)"
   ]
  },
  {
   "cell_type": "code",
   "execution_count": null,
   "metadata": {},
   "outputs": [],
   "source": []
  }
 ],
 "metadata": {
  "kernelspec": {
   "display_name": "Python 3",
   "language": "python",
   "name": "python3"
  },
  "language_info": {
   "codemirror_mode": {
    "name": "ipython",
    "version": 3
   },
   "file_extension": ".py",
   "mimetype": "text/x-python",
   "name": "python",
   "nbconvert_exporter": "python",
   "pygments_lexer": "ipython3",
   "version": "3.8.5"
  }
 },
 "nbformat": 4,
 "nbformat_minor": 4
}
