{
 "cells": [
  {
   "cell_type": "code",
   "execution_count": 33,
   "metadata": {},
   "outputs": [],
   "source": [
    "#1. Find first recurring character\n",
    "def recurring_char(input):\n",
    "    seen = set()\n",
    "    for char in input:\n",
    "        if char in seen:\n",
    "            return char\n",
    "        seen.add(char)\n",
    "\n",
    "    return(None)"
   ]
  },
  {
   "cell_type": "code",
   "execution_count": 34,
   "metadata": {},
   "outputs": [
    {
     "name": "stdout",
     "output_type": "stream",
     "text": [
      "i\n"
     ]
    }
   ],
   "source": [
    "# Test case\n",
    "input = \"interviewqueryquery\"\n",
    "print(recurring_char(input))"
   ]
  },
  {
   "cell_type": "code",
   "execution_count": 52,
   "metadata": {},
   "outputs": [],
   "source": [
    "#2. Finding term frequencies\n",
    "def term_freq(sentences):\n",
    "    words = sentences.split(\" \")\n",
    "    count = len(words)\n",
    "    dict_words = {}\n",
    "    \n",
    "    for term in words:\n",
    "        if term in dict_words:\n",
    "            dict_words[term] += 1\n",
    "        else:\n",
    "            dict_words[term] = 1\n",
    "    \n",
    "    for key in dict_words.keys():\n",
    "        dict_words[key] = round(dict_words[key]/count,2)\n",
    "    \n",
    "    return dict_words"
   ]
  },
  {
   "cell_type": "code",
   "execution_count": 53,
   "metadata": {},
   "outputs": [
    {
     "data": {
      "text/plain": [
       "{'I': 0.11,\n",
       " 'have': 0.11,\n",
       " 'a': 0.22,\n",
       " 'nice': 0.22,\n",
       " 'car': 0.11,\n",
       " 'with': 0.11,\n",
       " 'tires': 0.11}"
      ]
     },
     "execution_count": 53,
     "metadata": {},
     "output_type": "execute_result"
    }
   ],
   "source": [
    "# Test case \n",
    "sentences = \"I have a nice car with a nice tires\"\n",
    "term_freq(sentences)"
   ]
  },
  {
   "cell_type": "code",
   "execution_count": 6,
   "metadata": {},
   "outputs": [],
   "source": [
    "# 3. Gaussian generation. Size = n, Mean = mu and sigma - Generate a gaussian distribution\n",
    "import random\n",
    "import numpy as np\n",
    "def generate_gaussian(n, mu, sigma):\n",
    "    \n",
    "    return np.random.normal(mu, sigma, n)"
   ]
  },
  {
   "cell_type": "code",
   "execution_count": 7,
   "metadata": {},
   "outputs": [
    {
     "name": "stdout",
     "output_type": "stream",
     "text": [
      "[4.10152736 2.28870958 3.28941932 4.45023231 4.66190833 2.02487159\n",
      " 3.90860138 4.00675869 1.27828562]\n"
     ]
    }
   ],
   "source": [
    "# Test case \n",
    "n = 9 \n",
    "mu = 3\n",
    "sigma = 1 \n",
    "print(generate_gaussian(n,mu,sigma))"
   ]
  },
  {
   "cell_type": "code",
   "execution_count": 14,
   "metadata": {},
   "outputs": [],
   "source": [
    "# 4. Precision and recall\n",
    "def precision_recall(p):\n",
    "    precision = p[0][0] / (p[0][0] + p[1][0])\n",
    "    recall = p[0][0] / (p[0][0] + p[0][1])\n",
    "    \n",
    "    return(precision,recall)"
   ]
  },
  {
   "cell_type": "code",
   "execution_count": 15,
   "metadata": {},
   "outputs": [
    {
     "name": "stdout",
     "output_type": "stream",
     "text": [
      "(0.8768115942028986, 0.9307692307692308)\n"
     ]
    }
   ],
   "source": [
    "# Test cases\n",
    "P = [[121, 9],\n",
    "    [17, 144]]\n",
    "\n",
    "print(precision_recall(P))"
   ]
  },
  {
   "cell_type": "code",
   "execution_count": 6,
   "metadata": {},
   "outputs": [],
   "source": [
    "# 5. Min total change required to fullfill the total amount \n",
    "def min_change(total):\n",
    "    count = 0 \n",
    "    while total != 0:\n",
    "        if total >= 25:\n",
    "            count += 1\n",
    "            total -= 25\n",
    "\n",
    "        elif total >= 10:\n",
    "            count += 1\n",
    "            total -= 10\n",
    "\n",
    "        elif total >= 5:\n",
    "            count += 1\n",
    "            total += 5\n",
    "\n",
    "        elif total >= 1:\n",
    "            count += 1\n",
    "            total += 1\n",
    "\n",
    "    return count"
   ]
  },
  {
   "cell_type": "code",
   "execution_count": 41,
   "metadata": {},
   "outputs": [
    {
     "name": "stdout",
     "output_type": "stream",
     "text": [
      "9\n"
     ]
    }
   ],
   "source": [
    "# Test case \n",
    "total = 83\n",
    "print(min_change(total))"
   ]
  },
  {
   "cell_type": "code",
   "execution_count": 64,
   "metadata": {},
   "outputs": [],
   "source": [
    "# 6. Comupte variance\n",
    "def variance(test_list):\n",
    "    n = len(test_list)\n",
    "    mean = sum(test_list) / n\n",
    "    temp = 0 \n",
    "    \n",
    "    for i in test_list:\n",
    "        temp += (i - mean) **2 \n",
    "    \n",
    "    var = round(temp / n ,2 )\n",
    "    return var "
   ]
  },
  {
   "cell_type": "code",
   "execution_count": 66,
   "metadata": {},
   "outputs": [
    {
     "name": "stdout",
     "output_type": "stream",
     "text": [
      "5.25\n"
     ]
    }
   ],
   "source": [
    "# Test case \n",
    "test_list = [1,2,3,4,5,6,7,8]\n",
    "print(variance(test_list))"
   ]
  },
  {
   "cell_type": "code",
   "execution_count": 110,
   "metadata": {},
   "outputs": [],
   "source": [
    "# 7. Biagrams\n",
    "\n",
    "def biagrams(sentence):\n",
    "    words = sentence.lower().split()\n",
    "    biagram = []\n",
    "    for i in range(len(words)-1):\n",
    "        biagram.append((words[i], words[i+1]))\n",
    "    \n",
    "    return biagram"
   ]
  },
  {
   "cell_type": "code",
   "execution_count": 112,
   "metadata": {},
   "outputs": [
    {
     "data": {
      "text/plain": [
       "[('have', 'free'),\n",
       " ('free', 'hours'),\n",
       " ('hours', 'and'),\n",
       " ('and', 'love'),\n",
       " ('love', 'children?'),\n",
       " ('children?', 'drive'),\n",
       " ('drive', 'kids'),\n",
       " ('kids', 'to'),\n",
       " ('to', 'school,'),\n",
       " ('school,', 'soccer'),\n",
       " ('soccer', 'practice'),\n",
       " ('practice', 'and'),\n",
       " ('and', 'other'),\n",
       " ('other', 'activities.')]"
      ]
     },
     "execution_count": 112,
     "metadata": {},
     "output_type": "execute_result"
    }
   ],
   "source": [
    "# Test case \n",
    "sentence = \"\"\"\n",
    "Have free hours and love children? \n",
    "Drive kids to school, soccer practice \n",
    "and other activities.\n",
    "\"\"\"\n",
    "\n",
    "biagrams(sentence)"
   ]
  },
  {
   "cell_type": "code",
   "execution_count": 121,
   "metadata": {},
   "outputs": [],
   "source": [
    "# 8. Most tip payed by a user - Find the user who payed the most tip\n",
    "def most_tips(user_id,tips):\n",
    "    max_tip = tips[0]\n",
    "    user = user_ids[0]\n",
    "    \n",
    "    for i in range(len(tips)):\n",
    "        if tips[i] > max_tip:\n",
    "            user = user_id[i]\n",
    "    \n",
    "    return user"
   ]
  },
  {
   "cell_type": "code",
   "execution_count": 122,
   "metadata": {},
   "outputs": [
    {
     "data": {
      "text/plain": [
       "105"
      ]
     },
     "execution_count": 122,
     "metadata": {},
     "output_type": "execute_result"
    }
   ],
   "source": [
    "# Test case \n",
    "user_ids = [103, 105, 105, 107, 106, 103, 102, 108, 107, 103, 102]\n",
    "tips = [2, 5, 1, 0, 2, 1, 1, 0, 0, 2, 2]\n",
    "most_tips(user_ids, tips)"
   ]
  },
  {
   "cell_type": "code",
   "execution_count": 6,
   "metadata": {},
   "outputs": [],
   "source": [
    "# 9. Swapping values without using a different variable\n",
    "def swap_values(numbers):\n",
    "    numbers['a'] = numbers['a'] + numbers['b']\n",
    "    numbers['b'] = numbers['a'] - numbers['b']\n",
    "    numbers['a'] = numbers['a'] - numbers['b']\n",
    "    \n",
    "    return numbers"
   ]
  },
  {
   "cell_type": "code",
   "execution_count": 8,
   "metadata": {},
   "outputs": [
    {
     "data": {
      "text/plain": [
       "{'a': 4, 'b': 3}"
      ]
     },
     "execution_count": 8,
     "metadata": {},
     "output_type": "execute_result"
    }
   ],
   "source": [
    "# Test case\n",
    "numbers = {\n",
    "  'a':3,\n",
    "  'b':4\n",
    "}\n",
    "swap_values(numbers)"
   ]
  },
  {
   "cell_type": "code",
   "execution_count": 24,
   "metadata": {},
   "outputs": [],
   "source": [
    "# 10. Fill none values with previous values\n",
    "def fill_none(values):\n",
    "    result = []\n",
    "    pre_value = 0\n",
    "    for i in input_list:\n",
    "        if i is None:\n",
    "            result.append(prev_value)\n",
    "        else:\n",
    "            result.append(i)\n",
    "            prev_value = i\n",
    "    return result"
   ]
  },
  {
   "cell_type": "code",
   "execution_count": 25,
   "metadata": {},
   "outputs": [
    {
     "data": {
      "text/plain": [
       "[1, 2, 2, 2, 4, 5, 5]"
      ]
     },
     "execution_count": 25,
     "metadata": {},
     "output_type": "execute_result"
    }
   ],
   "source": [
    "# Test case \n",
    "input_list = [1,2,None,None,4,5,None]\n",
    "fill_none(input_list)"
   ]
  },
  {
   "cell_type": "code",
   "execution_count": 41,
   "metadata": {},
   "outputs": [],
   "source": [
    "# 11. Eliminate stop words from the string of words\n",
    "def stopwords_stripped(paragraph, stopwords):\n",
    "    unique_set = set(stopwords)\n",
    "    result = []\n",
    "    words = paragraph.lower().split()\n",
    "    \n",
    "    for word in words:\n",
    "        if word not in unique_set:\n",
    "            result.append(word)\n",
    "    \n",
    "    stripped = ' '.join(result)\n",
    "    return stripped"
   ]
  },
  {
   "cell_type": "code",
   "execution_count": 43,
   "metadata": {},
   "outputs": [
    {
     "data": {
      "text/plain": [
       "'i want figure out how i can better data scientist'"
      ]
     },
     "execution_count": 43,
     "metadata": {},
     "output_type": "execute_result"
    }
   ],
   "source": [
    "# test case \n",
    "stopwords = [\n",
    "    'I', \n",
    "    'as', \n",
    "    'to', \n",
    "    'you', \n",
    "    'your', \n",
    "    'but', \n",
    "    'be', \n",
    "    'a',\n",
    "]\n",
    "\n",
    "paragraph = 'I want to figure out how I can be a better data scientist'\n",
    "stopwords_stripped(paragraph, stopwords)"
   ]
  },
  {
   "cell_type": "code",
   "execution_count": 49,
   "metadata": {},
   "outputs": [],
   "source": [
    "# 12. Find date lists that are greater than the defined date \n",
    "def greater_release_dates(L1,L2,D):\n",
    "    \n",
    "    count1 = 0 \n",
    "    count2 = 0 \n",
    "    \n",
    "    for i in range(len(L1)):\n",
    "        if L1[i] > D:\n",
    "            count1 += 1\n",
    "    \n",
    "    for i in range(len(L2)):\n",
    "        if L2[i] > D:\n",
    "            count2 += 2\n",
    "    \n",
    "    if count1 > count2:\n",
    "        return(L1)\n",
    "    else:\n",
    "        return(L2)"
   ]
  },
  {
   "cell_type": "code",
   "execution_count": 50,
   "metadata": {},
   "outputs": [
    {
     "data": {
      "text/plain": [
       "['2020-01-20', '2020-04-02', '2020-02-08', '2020-03-01']"
      ]
     },
     "execution_count": 50,
     "metadata": {},
     "output_type": "execute_result"
    }
   ],
   "source": [
    "# Test case \n",
    "D = \"2020-03-01\"\n",
    "L1 = [\n",
    "    \"2020-01-21\", \n",
    "    \"2020-01-09\",\n",
    "    \"2020-01-10\",\n",
    "    \"2020-02-14\",\n",
    "    \"2020-03-01\"\n",
    "]\n",
    "L2 = [\n",
    "    \"2020-01-20\", \n",
    "    \"2020-04-02\",\n",
    "    \"2020-02-08\",\n",
    "    \"2020-03-01\"\n",
    "]\n",
    "\n",
    "greater_release_dates(L1,L2,D)"
   ]
  },
  {
   "cell_type": "code",
   "execution_count": 59,
   "metadata": {},
   "outputs": [],
   "source": [
    "# 13. Find vehicels that are between checkpoints\n",
    "def range_vehicles(vehicels, start, end):\n",
    "    \n",
    "    return (sum(vehicels[start:end]))"
   ]
  },
  {
   "cell_type": "code",
   "execution_count": 61,
   "metadata": {},
   "outputs": [
    {
     "data": {
      "text/plain": [
       "10"
      ]
     },
     "execution_count": 61,
     "metadata": {},
     "output_type": "execute_result"
    }
   ],
   "source": [
    "# Test case \n",
    "vehicles = [5, 6, 4, 2, 1]\n",
    "start = 1\n",
    "end = 3\n",
    "\n",
    "range_vehicles(vehicles, start, end)"
   ]
  },
  {
   "cell_type": "code",
   "execution_count": 7,
   "metadata": {},
   "outputs": [],
   "source": [
    "# 14. N grams of a string\n",
    "def get_ngrams(n, string):\n",
    "    result = {}\n",
    "    \n",
    "    for i in range(len(string) -n + 1):\n",
    "        temp = string[i:i+n]\n",
    "        if temp in result:\n",
    "            result[temp] += 1\n",
    "        else:\n",
    "            result[temp] = 1\n",
    "    return result"
   ]
  },
  {
   "cell_type": "code",
   "execution_count": 8,
   "metadata": {},
   "outputs": [
    {
     "data": {
      "text/plain": [
       "{'ba': 1, 'an': 2, 'na': 2}"
      ]
     },
     "execution_count": 8,
     "metadata": {},
     "output_type": "execute_result"
    }
   ],
   "source": [
    "# Test case \n",
    "string = 'banana'\n",
    "n = 2\n",
    "get_ngrams(n,string)"
   ]
  },
  {
   "cell_type": "code",
   "execution_count": 15,
   "metadata": {},
   "outputs": [],
   "source": [
    "# 15. Number of days between date1 and date2\n",
    "def delta_range(date1, date2):\n",
    "    import pandas as pd \n",
    "    \n",
    "    return (pd.bdate_range(date1, date2).shape[0])"
   ]
  },
  {
   "cell_type": "code",
   "execution_count": 16,
   "metadata": {},
   "outputs": [
    {
     "data": {
      "text/plain": [
       "14"
      ]
     },
     "execution_count": 16,
     "metadata": {},
     "output_type": "execute_result"
    }
   ],
   "source": [
    "# Test case \n",
    "date1 = '2021-01-31'\n",
    "date2 = '2021-02-18'\n",
    "delta_range(date1, date2)"
   ]
  },
  {
   "cell_type": "code",
   "execution_count": 60,
   "metadata": {},
   "outputs": [
    {
     "name": "stdout",
     "output_type": "stream",
     "text": [
      "1168\n"
     ]
    }
   ],
   "source": [
    "# 16. Count number of lines in the file\n",
    "with open('brand.csv','r') as file:\n",
    "    count = 0 \n",
    "    for line in file:\n",
    "        if line != \"\\n\":\n",
    "            count += 1\n",
    "    print(count)\n",
    "        "
   ]
  },
  {
   "cell_type": "code",
   "execution_count": 85,
   "metadata": {},
   "outputs": [],
   "source": [
    "# 17. Word freq in different format\n",
    "def word_frequency(sentences):\n",
    "    \n",
    "    word_dict = {}\n",
    "    for sentence in sentences:\n",
    "        words = sentence.lower().split(' ')\n",
    "        for word in words:\n",
    "            if word in word_dict:\n",
    "                word_dict[word] += 1\n",
    "            else:\n",
    "                word_dict[word] = 1\n",
    "    result = {}\n",
    "    \n",
    "    for term in word_dict.keys():\n",
    "        if word_dict[term] in result:\n",
    "            result[word_dict[term]].append(term)\n",
    "        else:\n",
    "            result[word_dict[term]] = [term]\n",
    "    \n",
    "    return result"
   ]
  },
  {
   "cell_type": "code",
   "execution_count": 86,
   "metadata": {},
   "outputs": [
    {
     "data": {
      "text/plain": [
       "{1: ['i', 'love', 'the', 'best', 'red', 'violets', 'blue'],\n",
       " 3: ['roses', 'are']}"
      ]
     },
     "execution_count": 86,
     "metadata": {},
     "output_type": "execute_result"
    }
   ],
   "source": [
    "# Test case \n",
    "sentences = [\n",
    "  \"I love roses\",\n",
    "  \"Roses are the best\",\n",
    "  \"Roses are red violets are blue\"\n",
    "]\n",
    "\n",
    "word_frequency(sentences)"
   ]
  },
  {
   "cell_type": "code",
   "execution_count": 97,
   "metadata": {},
   "outputs": [
    {
     "name": "stdout",
     "output_type": "stream",
     "text": [
      "0.0\n"
     ]
    }
   ],
   "source": [
    "y_pred = [3,4,5]\n",
    "y_true = [3,4,5]\n",
    "\n",
    "import math as m\n",
    "result = 0\n",
    "\n",
    "for i in range(len(y_pred)):\n",
    "    result += (y_pred[i] - y_true[i])**2\n",
    "    \n",
    "print(m.sqrt(result))"
   ]
  },
  {
   "cell_type": "code",
   "execution_count": 109,
   "metadata": {},
   "outputs": [],
   "source": [
    "# 18. Calculating RMSE \n",
    "def calculate_rmse(y_pred, y_true):\n",
    "    \n",
    "    import math\n",
    "    result = 0 \n",
    "    if len(y_true) != len(y_pred):\n",
    "        return\n",
    "    \n",
    "    for i in range(len(y_pred)):\n",
    "        result += (y_true[i] - y_pred[i])**2 \n",
    "    mse = result/len(y_pred)\n",
    "    rmse = math.sqrt(mse)\n",
    "    return rmse"
   ]
  },
  {
   "cell_type": "code",
   "execution_count": 110,
   "metadata": {},
   "outputs": [
    {
     "data": {
      "text/plain": [
       "1.632993161855452"
      ]
     },
     "execution_count": 110,
     "metadata": {},
     "output_type": "execute_result"
    }
   ],
   "source": [
    "# Test case \n",
    "y_pred = [3,4,5]\n",
    "y_true = [5,4,3]\n",
    "\n",
    "calculate_rmse(y_pred, y_true)"
   ]
  },
  {
   "cell_type": "code",
   "execution_count": 149,
   "metadata": {},
   "outputs": [],
   "source": [
    "# 19. Resumes that are not extracted - find the ids\n",
    "def new_resumes(existing_ids, names, urls):\n",
    "    output = []\n",
    "    \n",
    "    for i in range(len(urls)):\n",
    "        url_id = urls[i].split('/')[2]\n",
    "        if int(url_id) not in existing_ids:\n",
    "            output.append((names[i], int(url_id)))\n",
    "    return output"
   ]
  },
  {
   "cell_type": "code",
   "execution_count": 150,
   "metadata": {},
   "outputs": [
    {
     "data": {
      "text/plain": [
       "[('Jason', 23645), ('Cindy', 64337)]"
      ]
     },
     "execution_count": 150,
     "metadata": {},
     "output_type": "execute_result"
    }
   ],
   "source": [
    "# Test output\n",
    "existing_ids = [15234, 20485, 34536, 95342, 94857]\n",
    "\n",
    "names = ['Calvin', 'Jason', 'Cindy', 'Kevin']\n",
    "urls = [\n",
    "    'domain.com/resume/15234', \n",
    "    'domain.com/resume/23645', \n",
    "    'domain.com/resume/64337', \n",
    "    'domain.com/resume/34536',\n",
    "]\n",
    "new_resumes(existing_ids, names, urls)"
   ]
  },
  {
   "cell_type": "code",
   "execution_count": null,
   "metadata": {},
   "outputs": [],
   "source": []
  }
 ],
 "metadata": {
  "kernelspec": {
   "display_name": "Python 3",
   "language": "python",
   "name": "python3"
  },
  "language_info": {
   "codemirror_mode": {
    "name": "ipython",
    "version": 3
   },
   "file_extension": ".py",
   "mimetype": "text/x-python",
   "name": "python",
   "nbconvert_exporter": "python",
   "pygments_lexer": "ipython3",
   "version": "3.8.5"
  }
 },
 "nbformat": 4,
 "nbformat_minor": 4
}
