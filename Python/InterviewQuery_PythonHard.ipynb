{
 "cells": [
  {
   "cell_type": "code",
   "execution_count": 57,
   "metadata": {},
   "outputs": [],
   "source": [
    "# 1. Finding all combinations of sum to that N value\n",
    "def sum_to_n(integers, N):\n",
    "    \n",
    "    out = []\n",
    "    \n",
    "    for i in integers:\n",
    "        rem = N % i \n",
    "        quo = N // i \n",
    "        \n",
    "        if N % i == 0:\n",
    "            out.append([i] * quo)\n",
    "        \n",
    "        if N % i != 0 and i in integers:\n",
    "            out.append([i] * quo + [rem])\n",
    "    \n",
    "    return out"
   ]
  },
  {
   "cell_type": "code",
   "execution_count": 58,
   "metadata": {},
   "outputs": [
    {
     "data": {
      "text/plain": [
       "[[2, 2, 2, 2], [3, 3, 2], [5, 3]]"
      ]
     },
     "execution_count": 58,
     "metadata": {},
     "output_type": "execute_result"
    }
   ],
   "source": [
    "# Test case \n",
    "integers = [2,3,5]\n",
    "N = 8\n",
    "sum_to_n(integers, N)"
   ]
  },
  {
   "cell_type": "code",
   "execution_count": 59,
   "metadata": {},
   "outputs": [],
   "source": [
    "# 2. Truncated dist to calculate normal distribution\n",
    "\n",
    "import numpy as np\n",
    "import scipy.stats as st\n",
    "\n",
    "def truncated_dist(m,sd,n,percentile_threshold):\n",
    "\n",
    "    lim = st.norm(m,sd).ppf(percentile_threshold)\n",
    "    v = [0] * n\n",
    "    i=0\n",
    "    while i < n:\n",
    "        r = np.random.normal(m, sd, 1)[0]\n",
    "        if r <= lim:\n",
    "            v[i] = r\n",
    "            i = i + 1\n",
    "\n",
    "    return(v)"
   ]
  },
  {
   "cell_type": "code",
   "execution_count": 61,
   "metadata": {},
   "outputs": [
    {
     "data": {
      "text/plain": [
       "[1.2754191007961997,\n",
       " 0.11289706387781218,\n",
       " 1.8385880726645838,\n",
       " -0.0347137820684309,\n",
       " 1.268581563054194,\n",
       " 1.848068505417643]"
      ]
     },
     "execution_count": 61,
     "metadata": {},
     "output_type": "execute_result"
    }
   ],
   "source": [
    "# Test case \n",
    "m = 2\n",
    "sd = 1\n",
    "n = 6\n",
    "percentile_threshold = 0.75\n",
    "\n",
    "truncated_dist(m,sd,n,percentile_threshold)"
   ]
  },
  {
   "cell_type": "code",
   "execution_count": 95,
   "metadata": {},
   "outputs": [],
   "source": [
    "# 3. Timeline of friends\n",
    "def friendship_timeline(friends_added, friends_removed):\n",
    "    \n",
    "    friendship = []\n",
    "    for user_add in friends_added:\n",
    "        user_id = sorted(user_add['user_ids'])\n",
    "        for user_rem in friends_removed:\n",
    "            user_append = {}\n",
    "            if user_id == sorted(user_rem['user_ids']):\n",
    "                user_append['user_ids'] = sorted(user_id)\n",
    "                user_append['start_date'] = user_add['created_at']\n",
    "                user_append['end_date'] = user_rem['created_at']\n",
    "                friendship.append(user_append)\n",
    "                friends_removed.remove(user_rem)\n",
    "                break\n",
    "    \n",
    "    return sorted(friendship, key = lambda friendship:friendship['user_ids'][0])"
   ]
  },
  {
   "cell_type": "code",
   "execution_count": 96,
   "metadata": {},
   "outputs": [
    {
     "data": {
      "text/plain": [
       "[{'user_ids': [1, 2], 'start_date': '2020-01-01', 'end_date': '2020-01-03'},\n",
       " {'user_ids': [1, 2], 'start_date': '2020-02-02', 'end_date': '2020-02-05'},\n",
       " {'user_ids': [2, 3], 'start_date': '2020-01-02', 'end_date': '2020-01-05'}]"
      ]
     },
     "execution_count": 96,
     "metadata": {},
     "output_type": "execute_result"
    }
   ],
   "source": [
    "# Test case \n",
    "friends_added = [\n",
    "    {'user_ids': [1, 2], 'created_at': '2020-01-01'},\n",
    "    {'user_ids': [3, 2], 'created_at': '2020-01-02'},\n",
    "    {'user_ids': [2, 1], 'created_at': '2020-02-02'},\n",
    "    {'user_ids': [4, 1], 'created_at': '2020-02-02'}]\n",
    "\n",
    "friends_removed = [\n",
    "    {'user_ids': [2, 1], 'created_at': '2020-01-03'},\n",
    "    {'user_ids': [2, 3], 'created_at': '2020-01-05'},\n",
    "    {'user_ids': [1, 2], 'created_at': '2020-02-05'}]\n",
    "\n",
    "friendship_timeline(friends_added, friends_removed)"
   ]
  },
  {
   "cell_type": "code",
   "execution_count": 97,
   "metadata": {},
   "outputs": [],
   "source": [
    "# 4. Rainy days: Look in interview query for more detail\n",
    "\n",
    "import numpy as np\n",
    "def rain_days(n):\n",
    "    # 0:r,r; 1:r,n; 2:n,r; 3:n,n\n",
    "    p=np.mat([[0.2,0.8,0,0],[0,0,0.6,0.4],[0.6,0.4,0,0],[0,0,0.2,0.8]])    \n",
    "    pn=p**n\n",
    "    prob=np.array([1,0,0,0])*pn\n",
    "    resp=prob.item(0,0)+prob.item(0,2)\n",
    "    return resp"
   ]
  },
  {
   "cell_type": "code",
   "execution_count": 99,
   "metadata": {},
   "outputs": [
    {
     "data": {
      "text/plain": [
       "0.39968"
      ]
     },
     "execution_count": 99,
     "metadata": {},
     "output_type": "execute_result"
    }
   ],
   "source": [
    "# Test case \n",
    "n = 5 \n",
    "rain_days(n)"
   ]
  },
  {
   "cell_type": "code",
   "execution_count": null,
   "metadata": {},
   "outputs": [],
   "source": []
  }
 ],
 "metadata": {
  "kernelspec": {
   "display_name": "Python 3",
   "language": "python",
   "name": "python3"
  },
  "language_info": {
   "codemirror_mode": {
    "name": "ipython",
    "version": 3
   },
   "file_extension": ".py",
   "mimetype": "text/x-python",
   "name": "python",
   "nbconvert_exporter": "python",
   "pygments_lexer": "ipython3",
   "version": "3.8.5"
  }
 },
 "nbformat": 4,
 "nbformat_minor": 4
}
