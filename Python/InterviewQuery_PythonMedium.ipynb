{
 "cells": [
  {
   "cell_type": "code",
   "execution_count": 18,
   "metadata": {},
   "outputs": [],
   "source": [
    "# 1. Find all the words that are not in both the strings\n",
    "def mismatched_words(string1, string2):\n",
    "    \n",
    "    result = []\n",
    "    words1 = set(string1.lower().split())\n",
    "    words2 = set(string2.lower().split())\n",
    "    \n",
    "    for words in words2:\n",
    "        if words not in words1:\n",
    "            result.append(words)\n",
    "    \n",
    "    for words in words1:\n",
    "        if words not in words2:\n",
    "            result.append(words)\n",
    "            \n",
    "    return result"
   ]
  },
  {
   "cell_type": "code",
   "execution_count": 20,
   "metadata": {},
   "outputs": [
    {
     "data": {
      "text/plain": [
       "['all', 'is']"
      ]
     },
     "execution_count": 20,
     "metadata": {},
     "output_type": "execute_result"
    }
   ],
   "source": [
    "# Test case \n",
    "string1 = \"I want to eat fish today with my friends\"\n",
    "string2 = \"All I want is to eat fish today with my friends\"\n",
    "mismatched_words(string1, string2)"
   ]
  },
  {
   "cell_type": "code",
   "execution_count": 41,
   "metadata": {},
   "outputs": [],
   "source": [
    "# 2. Creating splits of data without using pandas\n",
    "def read_split_from_str(list_of_dict_string):\n",
    "    import json \n",
    "    \n",
    "    list_strings = list_of_dict_string.replace(\"'\",\"\\\"\")\n",
    "    data = json.loads(list_strings)\n",
    "    splits = int(0.7 * len(data))\n",
    "    \n",
    "    train = data[0:splits]\n",
    "    test = data[splits:]\n",
    "    \n",
    "    return ([train,test])"
   ]
  },
  {
   "cell_type": "code",
   "execution_count": 42,
   "metadata": {},
   "outputs": [
    {
     "data": {
      "text/plain": [
       "[[{'x': 0.0, 'y': 5.43}, {'x': 50.0, 'y': 102.78}],\n",
       " [{'x': 100.0, 'y': 204.24}]]"
      ]
     },
     "execution_count": 42,
     "metadata": {},
     "output_type": "execute_result"
    }
   ],
   "source": [
    "# Test case \n",
    "list_of_dict_string = \"[{'x': 0.0, 'y': 5.43}, {'x': 50.0, 'y': 102.78}, {'x': 100.0, 'y': 204.24}]\"\n",
    "read_split_from_str(list_of_dict_string)"
   ]
  },
  {
   "cell_type": "code",
   "execution_count": 11,
   "metadata": {},
   "outputs": [],
   "source": [
    "# 3. Function to get top n words in the paragraph w.r.t their frequencies\n",
    "def n_frequent_words(posting,N):\n",
    "    \n",
    "    punctuations = [',' , '.', '\\n']\n",
    "    \n",
    "    for term in posting:\n",
    "        if term in punctuations:\n",
    "            posting = posting.replace(term,\" \")\n",
    "    \n",
    "    posting = posting.lower().split()\n",
    "    \n",
    "    words_dict = {}\n",
    "    \n",
    "    for term in posting:\n",
    "        if term in words_dict:\n",
    "            words_dict[term] += 1\n",
    "        else:\n",
    "            words_dict[term] = 1\n",
    "    \n",
    "    result = sorted(words_dict.items(), key = lambda x:x[1], reverse = True)[:N]\n",
    "    return result"
   ]
  },
  {
   "cell_type": "code",
   "execution_count": 12,
   "metadata": {},
   "outputs": [
    {
     "data": {
      "text/plain": [
       "[('the', 6), ('herbal', 2), ('sauna', 2)]"
      ]
     },
     "execution_count": 12,
     "metadata": {},
     "output_type": "execute_result"
    }
   ],
   "source": [
    "posting = \"\"\"\n",
    "Herbal sauna uses the healing properties of herbs in combination with distilled water.   \n",
    "The water evaporates and distributes the effect of the herbs throughout the room.   \n",
    "A visit to the herbal sauna can cause real miracles, especially for colds. \n",
    "\"\"\" \n",
    "N = 3\n",
    "n_frequent_words(posting,N)"
   ]
  },
  {
   "cell_type": "code",
   "execution_count": 56,
   "metadata": {},
   "outputs": [],
   "source": [
    "# 4. Compute deviation wrt each list\n",
    "def compute_deviation(list_numbers):\n",
    "    result = {}\n",
    "    var = 0\n",
    "\n",
    "    for item in list_numbers:\n",
    "        extracted = item['values']\n",
    "        mean = sum(extracted) / len(extracted)\n",
    "\n",
    "        for nums in extracted:\n",
    "            std = (sum([(v-mean)**2 for v in extracted])/len(extracted)) ** (1/2)\n",
    "        result[item['key']] = std\n",
    "    return(result)"
   ]
  },
  {
   "cell_type": "code",
   "execution_count": 58,
   "metadata": {},
   "outputs": [
    {
     "data": {
      "text/plain": [
       "{'list1': 1.118033988749895, 'list2': 14.185710239533304}"
      ]
     },
     "execution_count": 58,
     "metadata": {},
     "output_type": "execute_result"
    }
   ],
   "source": [
    "# Test case \n",
    "list_numbers = [\n",
    "    {\n",
    "        'key': 'list1',\n",
    "        'values': [4,5,2,3,4,5,2,3],\n",
    "    },\n",
    "    {\n",
    "        'key': 'list2',\n",
    "        'values': [1,1,34,12,40,3,9,7],\n",
    "    }\n",
    "]\n",
    "compute_deviation(list_numbers)"
   ]
  },
  {
   "cell_type": "code",
   "execution_count": 72,
   "metadata": {},
   "outputs": [],
   "source": [
    "# 5. Find total percentage of companies in a department\n",
    "def find_percentages(num_employees):\n",
    "    import numpy as np\n",
    "    total = []\n",
    "    for company in num_employees:\n",
    "        new_array = []\n",
    "        total_employees = sum(company) \n",
    "        for department in company:\n",
    "            new_array.append(department / total_employees)\n",
    "        total.append(new_array)\n",
    "    \n",
    "    return(np.array(total))"
   ]
  },
  {
   "cell_type": "code",
   "execution_count": 73,
   "metadata": {},
   "outputs": [
    {
     "data": {
      "text/plain": [
       "array([[0.1, 0.2, 0.3, 0.3, 0.1],\n",
       "       [0.3, 0.3, 0.1, 0.2, 0.1],\n",
       "       [0.3, 0.1, 0.2, 0.3, 0.1],\n",
       "       [0.3, 0.2, 0.3, 0.1, 0.1],\n",
       "       [0.1, 0.5, 0.1, 0.1, 0.2]])"
      ]
     },
     "execution_count": 73,
     "metadata": {},
     "output_type": "execute_result"
    }
   ],
   "source": [
    "import numpy as np\n",
    "num_employees = np.array( [[10, 20, 30, 30, 10], [15, 15, 5, 10, 5], [150, 50, 100, 150, 50], [300, 200, 300, 100, 100], [1, 5, 1, 1, 2]] )\n",
    "find_percentages(num_employees)"
   ]
  },
  {
   "cell_type": "code",
   "execution_count": 106,
   "metadata": {},
   "outputs": [],
   "source": [
    "# 6. Find the max profit earned on dates \n",
    "def max_profit(stock_prices, dts):\n",
    "    min_value = min(stock_prices)\n",
    "    max_value = max(stock_prices)\n",
    "    \n",
    "    diff = max_value - min_value\n",
    "    min_val_idx = stock_prices.index(min_value)\n",
    "    max_val_idx = stock_prices.index(max_value)\n",
    "    \n",
    "    return(diff, dts[min_val_idx], dts[max_val_idx])"
   ]
  },
  {
   "cell_type": "code",
   "execution_count": 107,
   "metadata": {},
   "outputs": [
    {
     "data": {
      "text/plain": [
       "(27, '2019-01-02', '2019-01-04')"
      ]
     },
     "execution_count": 107,
     "metadata": {},
     "output_type": "execute_result"
    }
   ],
   "source": [
    "# Test case \n",
    "stock_prices = [10,5,20,32,25,12]\n",
    "dts = [\n",
    "    '2019-01-01', \n",
    "    '2019-01-02',\n",
    "    '2019-01-03',\n",
    "    '2019-01-04',\n",
    "    '2019-01-05',\n",
    "    '2019-01-06',\n",
    "]\n",
    "\n",
    "max_profit(stock_prices, dts)"
   ]
  },
  {
   "cell_type": "code",
   "execution_count": 126,
   "metadata": {},
   "outputs": [],
   "source": [
    "# 7. Find the total sum for the adjacent integers\n",
    "def int_str_addition(int_str):\n",
    "    total_sum = 0 \n",
    "    \n",
    "    for i in range(len(int_str)):\n",
    "        for j in range(i+1, len(int_str) + 1):\n",
    "            total_sum += int(int_str[i:j])\n",
    "    \n",
    "    return total_sum"
   ]
  },
  {
   "cell_type": "code",
   "execution_count": 128,
   "metadata": {},
   "outputs": [
    {
     "data": {
      "text/plain": [
       "15"
      ]
     },
     "execution_count": 128,
     "metadata": {},
     "output_type": "execute_result"
    }
   ],
   "source": [
    "# Test case \n",
    "int_str = '12'\n",
    "int_str_addition(int_str)"
   ]
  },
  {
   "cell_type": "code",
   "execution_count": 21,
   "metadata": {},
   "outputs": [],
   "source": [
    "# 8. Normalize the data in 0 and 1\n",
    "def normalize_grades(tuples):\n",
    "    \n",
    "    min_value = min(x[1] for x in tuples)\n",
    "    max_value = max(x[1] for x in tuples)\n",
    "    diff = max_value - min_value\n",
    "    \n",
    "    return [(x[0],(x[1] - min_value)/ (diff)) for x in tuples]"
   ]
  },
  {
   "cell_type": "code",
   "execution_count": 22,
   "metadata": {},
   "outputs": [
    {
     "data": {
      "text/plain": [
       "[('Jason', 0.9032258064516129),\n",
       " ('Tessa', 0.6774193548387096),\n",
       " ('Carla', 0.0),\n",
       " ('Matt', 0.08064516129032258),\n",
       " ('Jessica', 1.0)]"
      ]
     },
     "execution_count": 22,
     "metadata": {},
     "output_type": "execute_result"
    }
   ],
   "source": [
    "# Test case \n",
    "tuples = [\n",
    "    ('Jason', 94),\n",
    "    ('Tessa', 80),\n",
    "    ('Carla', 38),\n",
    "    ('Matt', 43),\n",
    "    ('Jessica', 100)\n",
    "]\n",
    "\n",
    "normalize_grades(tuples)"
   ]
  },
  {
   "cell_type": "code",
   "execution_count": 27,
   "metadata": {},
   "outputs": [],
   "source": [
    "# 9. Find subsequence in the string\n",
    "def is_subsequence(string1,string2):\n",
    "    \n",
    "    queue = []\n",
    "    \n",
    "    for char in string1:\n",
    "        queue.append(char)\n",
    "    \n",
    "    for char in string2:\n",
    "        if char == queue[0]:\n",
    "            queue.pop(0)\n",
    "    \n",
    "    if len(queue) == 0:\n",
    "        return True\n",
    "    else:\n",
    "        return False"
   ]
  },
  {
   "cell_type": "code",
   "execution_count": 28,
   "metadata": {},
   "outputs": [
    {
     "data": {
      "text/plain": [
       "True"
      ]
     },
     "execution_count": 28,
     "metadata": {},
     "output_type": "execute_result"
    }
   ],
   "source": [
    "# test case\n",
    "string1 = 'abc'\n",
    "string2 = 'asbsc'\n",
    "string3 = 'acedb'\n",
    "\n",
    "is_subsequence(string1,string2)"
   ]
  },
  {
   "cell_type": "code",
   "execution_count": 58,
   "metadata": {},
   "outputs": [],
   "source": [
    "# 10. If the root is available in words\n",
    "def replace_words(roots, sentence):\n",
    "    \n",
    "    split_sentence = sentence.split()\n",
    "    \n",
    "    for word in split_sentence:\n",
    "        for root in roots:\n",
    "            if root in word:\n",
    "                if word.lower().startswith(root):\n",
    "                    split_sentence[split_sentence.index(word)] = root\n",
    "                else:\n",
    "                    continue\n",
    "    \n",
    "    output = \" \".join(split_sentence)\n",
    "    return output"
   ]
  },
  {
   "cell_type": "code",
   "execution_count": 59,
   "metadata": {},
   "outputs": [
    {
     "data": {
      "text/plain": [
       "'the cat was rat by the bat'"
      ]
     },
     "execution_count": 59,
     "metadata": {},
     "output_type": "execute_result"
    }
   ],
   "source": [
    "# test case\n",
    "roots = [\"cat\", \"bat\", \"rat\"]\n",
    "sentence = \"the cattle was rattled by the battery\"\n",
    "replace_words(roots, sentence)"
   ]
  },
  {
   "cell_type": "code",
   "execution_count": 60,
   "metadata": {},
   "outputs": [
    {
     "data": {
      "text/plain": [
       "\"The result of the match was inaccurate, adding every single point it's impossible that it adds to the total result in play the match\""
      ]
     },
     "execution_count": 60,
     "metadata": {},
     "output_type": "execute_result"
    }
   ],
   "source": [
    "# Test case \n",
    "roots = ['accurate','possible','play']\n",
    "sentence = \"The result of the match was inaccurate, adding every single point it's impossible that it adds to the total result in playing the match \"\n",
    "replace_words(roots, sentence)"
   ]
  },
  {
   "cell_type": "code",
   "execution_count": 98,
   "metadata": {},
   "outputs": [],
   "source": [
    "# 11. Find the common bought items and return as the output as below\n",
    "def common_items(pair_list):\n",
    "    \n",
    "    item_dict = {}\n",
    "    \n",
    "    for pairs in pair_list:\n",
    "        if pairs[0] not in item_dict:\n",
    "            item_dict[pairs[0]] = [pairs[1]]\n",
    "        else:\n",
    "            item_dict[pairs[0]].append(pairs[1])\n",
    "    \n",
    "    keys = sorted(item_dict)\n",
    "    \n",
    "    tuple_list = []\n",
    "    \n",
    "    for i, k1 in enumerate(keys):\n",
    "        for k2 in keys[i+1: ]:\n",
    "            tuple_list.append((k1, k2, len(set(item_dict[k1]) & set(item_dict[k2]))))\n",
    "    \n",
    "    return tuple_list"
   ]
  },
  {
   "cell_type": "code",
   "execution_count": 99,
   "metadata": {},
   "outputs": [
    {
     "data": {
      "text/plain": [
       "[('Lily', 'Mark', 1), ('Lily', 'Susan', 0), ('Mark', 'Susan', 2)]"
      ]
     },
     "execution_count": 99,
     "metadata": {},
     "output_type": "execute_result"
    }
   ],
   "source": [
    "# Test case \n",
    "pair_list = [('Susan', 'spoon'), ('Susan', 'fork'), ('Mark', 'fork'), ('Mark', 'spoon'), ('Mark', 'plate'), ('Lily', 'plate')]\n",
    "common_items(pair_list)"
   ]
  },
  {
   "cell_type": "code",
   "execution_count": 103,
   "metadata": {},
   "outputs": [],
   "source": [
    "# 12. Returning a list grouped by week \n",
    "from datetime import datetime   \n",
    "from collections import defaultdict\n",
    "def weekly_aggregation(ts):\n",
    "    result = defaultdict(list)\n",
    "    for t1 in ts:\n",
    "        t1_date = datetime.strptime(t1,\"%Y-%m-%d\")\n",
    "        week = t1_date.isocalendar()[1]\n",
    "        result[week].append(t1)\n",
    "    return list(result.values())\n"
   ]
  },
  {
   "cell_type": "code",
   "execution_count": 105,
   "metadata": {},
   "outputs": [
    {
     "data": {
      "text/plain": [
       "[['2019-01-01', '2019-01-02'],\n",
       " ['2019-01-08'],\n",
       " ['2019-02-01', '2019-02-02'],\n",
       " ['2019-02-05']]"
      ]
     },
     "execution_count": 105,
     "metadata": {},
     "output_type": "execute_result"
    }
   ],
   "source": [
    "# Test case \n",
    "ts = [\n",
    "    '2019-01-01', \n",
    "    '2019-01-02',\n",
    "    '2019-01-08', \n",
    "    '2019-02-01', \n",
    "    '2019-02-02',\n",
    "    '2019-02-05',\n",
    "]\n",
    "\n",
    "weekly_aggregation(ts)"
   ]
  },
  {
   "cell_type": "code",
   "execution_count": 109,
   "metadata": {},
   "outputs": [],
   "source": [
    "# 13. Convert cdf from pdf : cumulative distribution function from probability distribuition function\n",
    "def to_cdf(pdf):\n",
    "    cdf = []\n",
    "    sum = 0 \n",
    "    for i in range(len(pdf)):\n",
    "        sum += pdf[i]\n",
    "        cdf.append(round(sum,3))\n",
    "    return pdf"
   ]
  },
  {
   "cell_type": "code",
   "execution_count": 111,
   "metadata": {},
   "outputs": [
    {
     "data": {
      "text/plain": [
       "[1.2, 3.4, 5.3]"
      ]
     },
     "execution_count": 111,
     "metadata": {},
     "output_type": "execute_result"
    }
   ],
   "source": [
    "# Test case\n",
    "pdf = [1.2,3.4,5.3]\n",
    "to_cdf(pdf)"
   ]
  },
  {
   "cell_type": "code",
   "execution_count": 4,
   "metadata": {},
   "outputs": [],
   "source": [
    "# 14. Get the last page of the string\n",
    "def get_last_page(int_string):\n",
    "    \n",
    "    i = 0 \n",
    "    while len(int_string) > 0:\n",
    "        i += 1\n",
    "        if i == int(int_string[: len(str(i))]):\n",
    "            int_string = int_string[len(str(i)):]\n",
    "        else:\n",
    "            return(i - 1)\n",
    "    return i"
   ]
  },
  {
   "cell_type": "code",
   "execution_count": 5,
   "metadata": {},
   "outputs": [
    {
     "data": {
      "text/plain": [
       "13"
      ]
     },
     "execution_count": 5,
     "metadata": {},
     "output_type": "execute_result"
    }
   ],
   "source": [
    "input = '12345678910111213'\n",
    "get_last_page(input)"
   ]
  },
  {
   "cell_type": "code",
   "execution_count": 9,
   "metadata": {},
   "outputs": [
    {
     "data": {
      "text/plain": [
       "array([-1.77577732,  0.76317051, -1.40123882, ...,  0.84911609,\n",
       "       -0.09385915,  1.47011913])"
      ]
     },
     "execution_count": 9,
     "metadata": {},
     "output_type": "execute_result"
    },
    {
     "data": {
      "image/png": "[encoded data removed]",
      "text/plain": [
       "<Figure size 432x288 with 1 Axes>"
      ]
     },
     "metadata": {
      "needs_background": "light"
     },
     "output_type": "display_data"
    }
   ],
   "source": [
    "# 15. Generate normal distribution\n",
    "import scipy.stats\n",
    "import numpy as np\n",
    "import random\n",
    "import matplotlib.pyplot as plt\n",
    "\n",
    "def samples_from_norm(N):\n",
    "    dist = scipy.stats.norm(0,1)\n",
    "    samples = dist.rvs(N)\n",
    "    plt.hist(samples)\n",
    "    plt.xlabel(str(N) + 'samples')\n",
    "    plt.ylabel('Count')\n",
    "    plt.show\n",
    "    \n",
    "    return samples\n",
    "\n",
    "samples_from_norm(100000)"
   ]
  },
  {
   "cell_type": "code",
   "execution_count": 72,
   "metadata": {},
   "outputs": [],
   "source": [
    "# 16. Flatten a json file\n",
    "\n",
    "def flatten_json(json_str):\n",
    "    \n",
    "    import json\n",
    "    inputs = json.loads(json_str)\n",
    "    \n",
    "    output_dict = {}\n",
    "    \n",
    "    for main in inputs:\n",
    "        for sub in inputs[main]:\n",
    "            output_dict[str(main+'_'+sub)] = inputs[main][sub]\n",
    "    return output_dict"
   ]
  },
  {
   "cell_type": "code",
   "execution_count": 73,
   "metadata": {},
   "outputs": [
    {
     "data": {
      "text/plain": [
       "{'a_b': 'c', 'a_d': 'e'}"
      ]
     },
     "execution_count": 73,
     "metadata": {},
     "output_type": "execute_result"
    }
   ],
   "source": [
    "# Test case \n",
    "import json\n",
    "json_str = json.dumps({'a':{'b':'c', 'd':'e'}})\n",
    "flatten_json(json_str)"
   ]
  },
  {
   "cell_type": "code",
   "execution_count": 82,
   "metadata": {},
   "outputs": [],
   "source": [
    "# 17. Prime numbers\n",
    "def prime_numbers(N):\n",
    "    num_list = []\n",
    "    for num in range(2, N):\n",
    "        if num != 2 and num % 2 == 0:\n",
    "            continue \n",
    "        if all(num%i!=0 for i in range(2, int(pow(num, 0.5)+1))):\n",
    "            num_list.append(num)\n",
    "    return num_list"
   ]
  },
  {
   "cell_type": "code",
   "execution_count": 83,
   "metadata": {},
   "outputs": [
    {
     "data": {
      "text/plain": [
       "[2,\n",
       " 3,\n",
       " 5,\n",
       " 7,\n",
       " 11,\n",
       " 13,\n",
       " 17,\n",
       " 19,\n",
       " 23,\n",
       " 29,\n",
       " 31,\n",
       " 37,\n",
       " 41,\n",
       " 43,\n",
       " 47,\n",
       " 53,\n",
       " 59,\n",
       " 61,\n",
       " 67,\n",
       " 71,\n",
       " 73,\n",
       " 79,\n",
       " 83,\n",
       " 89,\n",
       " 97]"
      ]
     },
     "execution_count": 83,
     "metadata": {},
     "output_type": "execute_result"
    }
   ],
   "source": [
    "prime_numbers(100)"
   ]
  },
  {
   "cell_type": "code",
   "execution_count": 88,
   "metadata": {},
   "outputs": [],
   "source": [
    "# 18. Tag finder\n",
    "import re\n",
    "def tag_counter(tag_groups,text):\n",
    "    #remove any punctuations\n",
    "    text_nopun=re.sub(r'[^\\w\\s]','',text)\n",
    "\n",
    "    #entire text converted to lower case \n",
    "    text_splt= [word.lower() for word in text_nopun.split()]\n",
    "    \n",
    "    text_mod=\" \".join(text_splt)\n",
    " \n",
    "    out=[]\n",
    "    for i in range(len(tag_groups)):\n",
    "        sub_group=tag_groups[i]\n",
    "        c=0\n",
    "        for j in range(len(sub_group)):\n",
    "            pattern=tag_groups[i][j]\n",
    "            \n",
    "            for match in re.finditer(pattern.lower(), text_mod):\n",
    "                s = match.start()\n",
    "                e = match.end()\n",
    "                c=c+1\n",
    "                #print(text_mod[s:e])\n",
    "        #print(\" For {} count is {}\".format(sub_group,c))\n",
    "        out.append(c)\n",
    "    return(out)"
   ]
  },
  {
   "cell_type": "code",
   "execution_count": 89,
   "metadata": {},
   "outputs": [
    {
     "data": {
      "text/plain": [
       "[1, 2, 0, 5]"
      ]
     },
     "execution_count": 89,
     "metadata": {},
     "output_type": "execute_result"
    }
   ],
   "source": [
    "# test case\n",
    "tag_groups = [\n",
    "    ['data scientist', 'data analyst'], \n",
    "    ['data engineer', 'data wrangler'], \n",
    "    ['machine learning engineer'], \n",
    "    ['data' , 'engineer']]\n",
    "text = \"Today, with the advent of data science, different roles have emerged in the industry. Job postings are abundant of many names such as data scientist, data engineer, data wrangler, deep learning specialist, and machine learning specialist to name a few.\"\n",
    "\n",
    "tag_counter(tag_groups,text)"
   ]
  },
  {
   "cell_type": "code",
   "execution_count": null,
   "metadata": {},
   "outputs": [],
   "source": []
  }
 ],
 "metadata": {
  "kernelspec": {
   "display_name": "Python 3",
   "language": "python",
   "name": "python3"
  },
  "language_info": {
   "codemirror_mode": {
    "name": "ipython",
    "version": 3
   },
   "file_extension": ".py",
   "mimetype": "text/x-python",
   "name": "python",
   "nbconvert_exporter": "python",
   "pygments_lexer": "ipython3",
   "version": "3.8.5"
  }
 },
 "nbformat": 4,
 "nbformat_minor": 4
}
